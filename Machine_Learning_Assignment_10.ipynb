{
  "nbformat": 4,
  "nbformat_minor": 0,
  "metadata": {
    "colab": {
      "provenance": [],
      "authorship_tag": "ABX9TyMkiqKsCXRrBVGaFr3ru6U2",
      "include_colab_link": true
    },
    "kernelspec": {
      "name": "python3",
      "display_name": "Python 3"
    },
    "language_info": {
      "name": "python"
    }
  },
  "cells": [
    {
      "cell_type": "markdown",
      "metadata": {
        "id": "view-in-github",
        "colab_type": "text"
      },
      "source": [
        "<a href=\"https://colab.research.google.com/github/vanyaagarwal29/Machine_Learning_Algorithms/blob/main/Machine_Learning_Assignment_10.ipynb\" target=\"_parent\"><img src=\"https://colab.research.google.com/assets/colab-badge.svg\" alt=\"Open In Colab\"/></a>"
      ]
    },
    {
      "cell_type": "code",
      "execution_count": null,
      "metadata": {
        "id": "NOZ36NPJ71Gr"
      },
      "outputs": [],
      "source": []
    },
    {
      "cell_type": "markdown",
      "source": [
        "Define the Bayesian interpretation of probability.\n",
        "2. Define probability of a union of two events with equation.\n",
        "3. What is joint probability? What is its formula?\n",
        "4. What is chain rule of probability?\n",
        "5. What is conditional probability means? What is the formula of it?\n",
        "6. What are continuous random variables?\n",
        "7. What are Bernoulli distributions? What is the formula of it?\n",
        "8. What is binomial distribution? What is the formula?\n",
        "9. What is Poisson distribution? What is the formula?\n",
        "10. Define covariance.\n",
        "11. Define correlation\n",
        "12. Define sampling with replacement. Give example.\n",
        "13. What is sampling without replacement? Give example.\n",
        "14. What is hypothesis? Give example."
      ],
      "metadata": {
        "id": "iAjhRFw672DY"
      }
    },
    {
      "cell_type": "code",
      "source": [],
      "metadata": {
        "id": "-UYPq8IN72jB"
      },
      "execution_count": null,
      "outputs": []
    },
    {
      "cell_type": "markdown",
      "source": [
        "1. Bayesian interpretation of probability: In the Bayesian interpretation of probability, probability is viewed as a measure of subjective belief or uncertainty about an event. It incorporates prior knowledge or beliefs and updates them based on new evidence or data using Bayes' theorem. This interpretation is commonly used in statistical inference and machine learning to update probabilities as new information becomes available.\n",
        "\n",
        "2. Probability of a union of two events: The probability of the union of two events A and B is given by the equation:\n",
        "   P(A ∪ B) = P(A) + P(B) - P(A ∩ B)\n",
        "\n",
        "3. Joint probability: Joint probability is the probability of two or more events occurring simultaneously. It represents the likelihood of the intersection of events A and B, denoted as P(A ∩ B). The formula for joint probability is:\n",
        "   P(A ∩ B) = P(A) * P(B|A)   (where P(B|A) is the conditional probability of event B given event A)\n",
        "\n",
        "4. Chain rule of probability: The chain rule of probability allows us to express the joint probability of multiple events as a product of conditional probabilities. For two events A and B, it is expressed as:\n",
        "   P(A ∩ B) = P(A) * P(B|A)\n",
        "\n",
        "5. Conditional probability: Conditional probability is the probability of an event occurring given that another event has already occurred. It is denoted as P(A|B) and is calculated using the formula:\n",
        "   P(A|B) = P(A ∩ B) / P(B)\n",
        "\n",
        "6. Continuous random variables: Continuous random variables are variables that can take any value within a certain range or interval. They are characterized by a continuous probability distribution and are typically associated with measurements or real-valued data, such as height, weight, or time.\n",
        "\n",
        "7. Bernoulli distributions: Bernoulli distribution models a binary outcome, where an event can have only two possible outcomes, usually represented as 0 or 1. It has a single parameter, p, representing the probability of success (1) in a single trial. The formula for the Bernoulli distribution is:\n",
        "   P(X = x) = p^x * (1-p)^(1-x)   for x = 0 or x = 1\n",
        "\n",
        "8. Binomial distribution: The binomial distribution models the number of successes in a fixed number of independent Bernoulli trials. It has two parameters, n (number of trials) and p (probability of success in a single trial). The formula for the binomial distribution is:\n",
        "   P(X = k) = (n choose k) * p^k * (1-p)^(n-k)   for k = 0, 1, 2, ..., n\n",
        "\n",
        "9. Poisson distribution: The Poisson distribution models the number of events occurring in a fixed interval of time or space when the events occur with a known constant rate and independently of the time since the last event. It has a single parameter, λ (average rate of events per interval). The formula for the Poisson distribution is:\n",
        "   P(X = k) = (e^(-λ) * λ^k) / k!\n",
        "\n",
        "10. Covariance: Covariance measures the degree of joint variability between two random variables. It indicates whether the variables tend to increase or decrease together. A positive covariance suggests a direct relationship, while a negative covariance suggests an inverse relationship.\n",
        "\n",
        "11. Correlation: Correlation is a standardized measure of the strength and direction of the linear relationship between two random variables. It ranges from -1 to 1, where -1 indicates a perfect negative linear correlation, 1 indicates a perfect positive linear correlation, and 0 indicates no linear correlation.\n",
        "\n",
        "12. Sampling with replacement: Sampling with replacement is a sampling method where each item in the population has an equal chance of being selected for the sample, and once an item is selected, it is returned to the population before the next selection. This allows the same item to be selected multiple times.\n",
        "\n",
        "13. Sampling without replacement: Sampling without replacement is a sampling method where each item in the population can be selected only once for the sample. Once an item is selected, it is not returned to the population, and the next selection is made from the remaining items.\n",
        "\n",
        "14. Hypothesis: In statistics, a hypothesis is a testable statement or assumption about a population or data. It is formulated to be either accepted or rejected based on evidence from sample data. An example of a hypothesis could be \"The average height of male students in a university is greater than 175 cm.\""
      ],
      "metadata": {
        "id": "gf1nsf6L8XlY"
      }
    },
    {
      "cell_type": "code",
      "source": [],
      "metadata": {
        "id": "uSzjxUOq8YDd"
      },
      "execution_count": null,
      "outputs": []
    }
  ]
}