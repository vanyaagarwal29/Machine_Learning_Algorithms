{
  "nbformat": 4,
  "nbformat_minor": 0,
  "metadata": {
    "colab": {
      "provenance": [],
      "authorship_tag": "ABX9TyO2hVOFY5NhhVIO0cEaRf5i",
      "include_colab_link": true
    },
    "kernelspec": {
      "name": "python3",
      "display_name": "Python 3"
    },
    "language_info": {
      "name": "python"
    }
  },
  "cells": [
    {
      "cell_type": "markdown",
      "metadata": {
        "id": "view-in-github",
        "colab_type": "text"
      },
      "source": [
        "<a href=\"https://colab.research.google.com/github/vanyaagarwal29/Machine_Learning_Algorithms/blob/main/Machine_Learning_Assignment_11.ipynb\" target=\"_parent\"><img src=\"https://colab.research.google.com/assets/colab-badge.svg\" alt=\"Open In Colab\"/></a>"
      ]
    },
    {
      "cell_type": "code",
      "execution_count": null,
      "metadata": {
        "id": "t-vnaMup861b"
      },
      "outputs": [],
      "source": []
    },
    {
      "cell_type": "markdown",
      "source": [
        "1. For the first problem, you haven't provided the PMF for the random variable X. Please provide the PMF, and I'll be able to answer the questions accordingly.\n",
        "\n",
        "2. For the second problem, let X and Y be the outcomes of two equal and fair dice rolls. We know that each die has 6 sides, so the range of X and Y is {1, 2, 3, 4, 5, 6}. The PMFs of X and Y are given by:\n",
        "\n",
        "PMF of X: P(X = x) = 1/6 for x = 1, 2, 3, 4, 5, 6\n",
        "PMF of Y: P(Y = y) = 1/6 for y = 1, 2, 3, 4, 5, 6\n",
        "\n",
        "3. For P(X = 2, Y = 6), we need to find the probability of both dice showing 2 and 6, respectively. Since the dice rolls are independent, the probability of both events occurring is the product of their individual probabilities:\n",
        "P(X = 2, Y = 6) = P(X = 2) * P(Y = 6) = (1/6) * (1/6) = 1/36\n",
        "\n",
        "4. For P(X > 3|Y = 2), we need to find the conditional probability that X is greater than 3 given that Y is 2. Since the dice rolls are independent, the conditional probability is the same as the unconditional probability:\n",
        "P(X > 3|Y = 2) = P(X > 3) = 3/6 = 1/2\n",
        "\n",
        "5. If Z = X + Y, then the range of Z is {2, 3, 4, 5, 6, 7, 8, 9, 10, 11, 12}. To find the PMF of Z, we need to consider all possible outcomes of X and Y that sum up to each value in the range of Z.\n",
        "\n",
        "6. To find P(X = 4|Z = 8), we need to find the probability that X is 4 given that the sum of X and Y is 8. We can do this by considering all possible outcomes of X and Y that result in a sum of 8 and then finding the probability of X being 4 among those outcomes.\n",
        "\n",
        "For the remaining problems, you haven't provided the necessary information (e.g., PMFs, PDFs) to solve them. Please provide the missing information, and I'll be happy to assist you further."
      ],
      "metadata": {
        "id": "nGxnpOOW9EEz"
      }
    },
    {
      "cell_type": "code",
      "source": [],
      "metadata": {
        "id": "Q0baeS4S9EsQ"
      },
      "execution_count": null,
      "outputs": []
    }
  ]
}