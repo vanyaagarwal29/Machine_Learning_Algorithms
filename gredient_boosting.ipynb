{
  "cells": [
    {
      "cell_type": "markdown",
      "metadata": {
        "id": "view-in-github",
        "colab_type": "text"
      },
      "source": [
        "<a href=\"https://colab.research.google.com/github/vanyaagarwal29/Machine_Learning_Algorithms/blob/main/gredient_boosting.ipynb\" target=\"_parent\"><img src=\"https://colab.research.google.com/assets/colab-badge.svg\" alt=\"Open In Colab\"/></a>"
      ]
    },
    {
      "cell_type": "code",
      "execution_count": null,
      "id": "efac2d43",
      "metadata": {
        "id": "efac2d43"
      },
      "outputs": [],
      "source": [
        "import pandas as pd\n",
        "df=pd.DataFrame({\"iq\":[90,100,110,120,80],\"cgpa\":[8,7,6,9,5],\"salary\":[3,4,8,6,3]})"
      ]
    },
    {
      "cell_type": "code",
      "execution_count": null,
      "id": "a48cfc27",
      "metadata": {
        "id": "a48cfc27",
        "outputId": "193da74c-8ad1-474f-dca3-6a6a2aecbe79"
      },
      "outputs": [
        {
          "data": {
            "text/html": [
              "<div>\n",
              "<style scoped>\n",
              "    .dataframe tbody tr th:only-of-type {\n",
              "        vertical-align: middle;\n",
              "    }\n",
              "\n",
              "    .dataframe tbody tr th {\n",
              "        vertical-align: top;\n",
              "    }\n",
              "\n",
              "    .dataframe thead th {\n",
              "        text-align: right;\n",
              "    }\n",
              "</style>\n",
              "<table border=\"1\" class=\"dataframe\">\n",
              "  <thead>\n",
              "    <tr style=\"text-align: right;\">\n",
              "      <th></th>\n",
              "      <th>iq</th>\n",
              "      <th>cgpa</th>\n",
              "      <th>salary</th>\n",
              "    </tr>\n",
              "  </thead>\n",
              "  <tbody>\n",
              "    <tr>\n",
              "      <th>0</th>\n",
              "      <td>90</td>\n",
              "      <td>8</td>\n",
              "      <td>3</td>\n",
              "    </tr>\n",
              "    <tr>\n",
              "      <th>1</th>\n",
              "      <td>100</td>\n",
              "      <td>7</td>\n",
              "      <td>4</td>\n",
              "    </tr>\n",
              "    <tr>\n",
              "      <th>2</th>\n",
              "      <td>110</td>\n",
              "      <td>6</td>\n",
              "      <td>8</td>\n",
              "    </tr>\n",
              "    <tr>\n",
              "      <th>3</th>\n",
              "      <td>120</td>\n",
              "      <td>9</td>\n",
              "      <td>6</td>\n",
              "    </tr>\n",
              "    <tr>\n",
              "      <th>4</th>\n",
              "      <td>80</td>\n",
              "      <td>5</td>\n",
              "      <td>3</td>\n",
              "    </tr>\n",
              "  </tbody>\n",
              "</table>\n",
              "</div>"
            ],
            "text/plain": [
              "    iq  cgpa  salary\n",
              "0   90     8       3\n",
              "1  100     7       4\n",
              "2  110     6       8\n",
              "3  120     9       6\n",
              "4   80     5       3"
            ]
          },
          "execution_count": 4,
          "metadata": {},
          "output_type": "execute_result"
        }
      ],
      "source": [
        "df"
      ]
    },
    {
      "cell_type": "code",
      "execution_count": null,
      "id": "f1843b28",
      "metadata": {
        "id": "f1843b28"
      },
      "outputs": [],
      "source": [
        "import numpy as np\n",
        "df[\"base_model\"]=np.mean(df['salary'])"
      ]
    },
    {
      "cell_type": "code",
      "execution_count": null,
      "id": "d61568da",
      "metadata": {
        "id": "d61568da",
        "outputId": "bce53fad-d5a0-4191-a9a2-7b2a1b560b86"
      },
      "outputs": [
        {
          "data": {
            "text/html": [
              "<div>\n",
              "<style scoped>\n",
              "    .dataframe tbody tr th:only-of-type {\n",
              "        vertical-align: middle;\n",
              "    }\n",
              "\n",
              "    .dataframe tbody tr th {\n",
              "        vertical-align: top;\n",
              "    }\n",
              "\n",
              "    .dataframe thead th {\n",
              "        text-align: right;\n",
              "    }\n",
              "</style>\n",
              "<table border=\"1\" class=\"dataframe\">\n",
              "  <thead>\n",
              "    <tr style=\"text-align: right;\">\n",
              "      <th></th>\n",
              "      <th>iq</th>\n",
              "      <th>cgpa</th>\n",
              "      <th>salary</th>\n",
              "      <th>residual1</th>\n",
              "      <th>base_model</th>\n",
              "    </tr>\n",
              "  </thead>\n",
              "  <tbody>\n",
              "    <tr>\n",
              "      <th>0</th>\n",
              "      <td>90</td>\n",
              "      <td>8</td>\n",
              "      <td>3</td>\n",
              "      <td>-1.8</td>\n",
              "      <td>4.8</td>\n",
              "    </tr>\n",
              "    <tr>\n",
              "      <th>1</th>\n",
              "      <td>100</td>\n",
              "      <td>7</td>\n",
              "      <td>4</td>\n",
              "      <td>-0.8</td>\n",
              "      <td>4.8</td>\n",
              "    </tr>\n",
              "    <tr>\n",
              "      <th>2</th>\n",
              "      <td>110</td>\n",
              "      <td>6</td>\n",
              "      <td>8</td>\n",
              "      <td>3.2</td>\n",
              "      <td>4.8</td>\n",
              "    </tr>\n",
              "    <tr>\n",
              "      <th>3</th>\n",
              "      <td>120</td>\n",
              "      <td>9</td>\n",
              "      <td>6</td>\n",
              "      <td>1.2</td>\n",
              "      <td>4.8</td>\n",
              "    </tr>\n",
              "    <tr>\n",
              "      <th>4</th>\n",
              "      <td>80</td>\n",
              "      <td>5</td>\n",
              "      <td>3</td>\n",
              "      <td>-1.8</td>\n",
              "      <td>4.8</td>\n",
              "    </tr>\n",
              "  </tbody>\n",
              "</table>\n",
              "</div>"
            ],
            "text/plain": [
              "    iq  cgpa  salary  residual1  base_model\n",
              "0   90     8       3       -1.8         4.8\n",
              "1  100     7       4       -0.8         4.8\n",
              "2  110     6       8        3.2         4.8\n",
              "3  120     9       6        1.2         4.8\n",
              "4   80     5       3       -1.8         4.8"
            ]
          },
          "execution_count": 13,
          "metadata": {},
          "output_type": "execute_result"
        }
      ],
      "source": [
        "df"
      ]
    },
    {
      "cell_type": "code",
      "execution_count": null,
      "id": "8e9a2cdb",
      "metadata": {
        "id": "8e9a2cdb"
      },
      "outputs": [],
      "source": [
        "df[\"residual1\"]=df[\"salary\"]-base_model"
      ]
    },
    {
      "cell_type": "code",
      "execution_count": null,
      "id": "00221d34",
      "metadata": {
        "id": "00221d34",
        "outputId": "24b15af0-b6bc-4f39-9a55-9548b8331bd5"
      },
      "outputs": [
        {
          "data": {
            "text/html": [
              "<div>\n",
              "<style scoped>\n",
              "    .dataframe tbody tr th:only-of-type {\n",
              "        vertical-align: middle;\n",
              "    }\n",
              "\n",
              "    .dataframe tbody tr th {\n",
              "        vertical-align: top;\n",
              "    }\n",
              "\n",
              "    .dataframe thead th {\n",
              "        text-align: right;\n",
              "    }\n",
              "</style>\n",
              "<table border=\"1\" class=\"dataframe\">\n",
              "  <thead>\n",
              "    <tr style=\"text-align: right;\">\n",
              "      <th></th>\n",
              "      <th>iq</th>\n",
              "      <th>cgpa</th>\n",
              "      <th>salary</th>\n",
              "      <th>residual1</th>\n",
              "    </tr>\n",
              "  </thead>\n",
              "  <tbody>\n",
              "    <tr>\n",
              "      <th>0</th>\n",
              "      <td>90</td>\n",
              "      <td>8</td>\n",
              "      <td>3</td>\n",
              "      <td>-1.8</td>\n",
              "    </tr>\n",
              "    <tr>\n",
              "      <th>1</th>\n",
              "      <td>100</td>\n",
              "      <td>7</td>\n",
              "      <td>4</td>\n",
              "      <td>-0.8</td>\n",
              "    </tr>\n",
              "    <tr>\n",
              "      <th>2</th>\n",
              "      <td>110</td>\n",
              "      <td>6</td>\n",
              "      <td>8</td>\n",
              "      <td>3.2</td>\n",
              "    </tr>\n",
              "    <tr>\n",
              "      <th>3</th>\n",
              "      <td>120</td>\n",
              "      <td>9</td>\n",
              "      <td>6</td>\n",
              "      <td>1.2</td>\n",
              "    </tr>\n",
              "    <tr>\n",
              "      <th>4</th>\n",
              "      <td>80</td>\n",
              "      <td>5</td>\n",
              "      <td>3</td>\n",
              "      <td>-1.8</td>\n",
              "    </tr>\n",
              "  </tbody>\n",
              "</table>\n",
              "</div>"
            ],
            "text/plain": [
              "    iq  cgpa  salary  residual1\n",
              "0   90     8       3       -1.8\n",
              "1  100     7       4       -0.8\n",
              "2  110     6       8        3.2\n",
              "3  120     9       6        1.2\n",
              "4   80     5       3       -1.8"
            ]
          },
          "execution_count": 11,
          "metadata": {},
          "output_type": "execute_result"
        }
      ],
      "source": [
        "df\n"
      ]
    },
    {
      "cell_type": "code",
      "execution_count": null,
      "id": "db78de5a",
      "metadata": {
        "id": "db78de5a",
        "outputId": "114d527d-d628-4155-c9cb-09814632d1e3"
      },
      "outputs": [
        {
          "data": {
            "text/plain": [
              "0   -1.8\n",
              "1   -0.8\n",
              "2    3.2\n",
              "3    1.2\n",
              "4   -1.8\n",
              "Name: residual1, dtype: float64"
            ]
          },
          "execution_count": 10,
          "metadata": {},
          "output_type": "execute_result"
        }
      ],
      "source": [
        "df[\"residual1\"]"
      ]
    },
    {
      "cell_type": "code",
      "execution_count": null,
      "id": "1827421c",
      "metadata": {
        "id": "1827421c"
      },
      "outputs": [],
      "source": [
        "X=df[[\"iq\",\"cgpa\"]]"
      ]
    },
    {
      "cell_type": "code",
      "execution_count": null,
      "id": "b8d5cd13",
      "metadata": {
        "id": "b8d5cd13"
      },
      "outputs": [],
      "source": [
        "y=df.residual1"
      ]
    },
    {
      "cell_type": "code",
      "execution_count": null,
      "id": "d07b4b22",
      "metadata": {
        "id": "d07b4b22",
        "outputId": "5fe85ab3-651a-4c4a-9dce-d1fd06d37a63"
      },
      "outputs": [
        {
          "data": {
            "text/html": [
              "<div>\n",
              "<style scoped>\n",
              "    .dataframe tbody tr th:only-of-type {\n",
              "        vertical-align: middle;\n",
              "    }\n",
              "\n",
              "    .dataframe tbody tr th {\n",
              "        vertical-align: top;\n",
              "    }\n",
              "\n",
              "    .dataframe thead th {\n",
              "        text-align: right;\n",
              "    }\n",
              "</style>\n",
              "<table border=\"1\" class=\"dataframe\">\n",
              "  <thead>\n",
              "    <tr style=\"text-align: right;\">\n",
              "      <th></th>\n",
              "      <th>iq</th>\n",
              "      <th>cgpa</th>\n",
              "    </tr>\n",
              "  </thead>\n",
              "  <tbody>\n",
              "    <tr>\n",
              "      <th>0</th>\n",
              "      <td>90</td>\n",
              "      <td>8</td>\n",
              "    </tr>\n",
              "    <tr>\n",
              "      <th>1</th>\n",
              "      <td>100</td>\n",
              "      <td>7</td>\n",
              "    </tr>\n",
              "    <tr>\n",
              "      <th>2</th>\n",
              "      <td>110</td>\n",
              "      <td>6</td>\n",
              "    </tr>\n",
              "    <tr>\n",
              "      <th>3</th>\n",
              "      <td>120</td>\n",
              "      <td>9</td>\n",
              "    </tr>\n",
              "    <tr>\n",
              "      <th>4</th>\n",
              "      <td>80</td>\n",
              "      <td>5</td>\n",
              "    </tr>\n",
              "  </tbody>\n",
              "</table>\n",
              "</div>"
            ],
            "text/plain": [
              "    iq  cgpa\n",
              "0   90     8\n",
              "1  100     7\n",
              "2  110     6\n",
              "3  120     9\n",
              "4   80     5"
            ]
          },
          "execution_count": 16,
          "metadata": {},
          "output_type": "execute_result"
        }
      ],
      "source": [
        "X"
      ]
    },
    {
      "cell_type": "code",
      "execution_count": null,
      "id": "dee38ed6",
      "metadata": {
        "id": "dee38ed6",
        "outputId": "a9b3b2ee-6f85-410a-d9ba-418fca64cdb8"
      },
      "outputs": [
        {
          "data": {
            "text/plain": [
              "0   -1.8\n",
              "1   -0.8\n",
              "2    3.2\n",
              "3    1.2\n",
              "4   -1.8\n",
              "Name: residual1, dtype: float64"
            ]
          },
          "execution_count": 17,
          "metadata": {},
          "output_type": "execute_result"
        }
      ],
      "source": [
        "y"
      ]
    },
    {
      "cell_type": "code",
      "execution_count": null,
      "id": "35218b43",
      "metadata": {
        "id": "35218b43"
      },
      "outputs": [],
      "source": [
        "from sklearn.tree import DecisionTreeRegressor\n",
        "model=DecisionTreeRegressor()"
      ]
    },
    {
      "cell_type": "code",
      "execution_count": null,
      "id": "593dec42",
      "metadata": {
        "id": "593dec42",
        "outputId": "bccfbebb-81f6-43ab-9951-e5f81ba57b39"
      },
      "outputs": [
        {
          "data": {
            "text/plain": [
              "DecisionTreeRegressor()"
            ]
          },
          "execution_count": 18,
          "metadata": {},
          "output_type": "execute_result"
        }
      ],
      "source": [
        "model.fit(X,y)"
      ]
    },
    {
      "cell_type": "code",
      "execution_count": null,
      "id": "23986a90",
      "metadata": {
        "id": "23986a90",
        "outputId": "739e7bd3-2edc-44ff-cb4a-c4363af618ee"
      },
      "outputs": [
        {
          "data": {
            "text/plain": [
              "1.0"
            ]
          },
          "execution_count": 19,
          "metadata": {},
          "output_type": "execute_result"
        }
      ],
      "source": [
        "model.score(X,y)"
      ]
    },
    {
      "cell_type": "code",
      "execution_count": null,
      "id": "fe791de4",
      "metadata": {
        "id": "fe791de4",
        "outputId": "21188516-ad34-472e-fb87-c7496bb1bb8c"
      },
      "outputs": [
        {
          "data": {
            "image/png": "[encoded data removed]",
            "text/plain": [
              "<Figure size 576x576 with 1 Axes>"
            ]
          },
          "metadata": {
            "needs_background": "light"
          },
          "output_type": "display_data"
        }
      ],
      "source": [
        "from sklearn import tree\n",
        "import matplotlib.pyplot as plt\n",
        "#fig,ax=plt.subplot(figsize=(12,12))\n",
        "plt.figure(figsize=(8,8))\n",
        "tree.plot_tree(model,filled=True)\n",
        "plt.show()"
      ]
    },
    {
      "cell_type": "code",
      "execution_count": null,
      "id": "240d57a5",
      "metadata": {
        "id": "240d57a5"
      },
      "outputs": [],
      "source": []
    }
  ],
  "metadata": {
    "kernelspec": {
      "display_name": "Python 3 (ipykernel)",
      "language": "python",
      "name": "python3"
    },
    "language_info": {
      "codemirror_mode": {
        "name": "ipython",
        "version": 3
      },
      "file_extension": ".py",
      "mimetype": "text/x-python",
      "name": "python",
      "nbconvert_exporter": "python",
      "pygments_lexer": "ipython3",
      "version": "3.9.7"
    },
    "colab": {
      "provenance": [],
      "include_colab_link": true
    }
  },
  "nbformat": 4,
  "nbformat_minor": 5
}